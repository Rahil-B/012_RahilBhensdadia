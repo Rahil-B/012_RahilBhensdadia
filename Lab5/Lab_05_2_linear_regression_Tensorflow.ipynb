{
  "nbformat": 4,
  "nbformat_minor": 0,
  "metadata": {
    "kernelspec": {
      "display_name": "Python 3",
      "language": "python",
      "name": "python3"
    },
    "language_info": {
      "name": "python",
      "version": "3.6.6",
      "mimetype": "text/x-python",
      "codemirror_mode": {
        "name": "ipython",
        "version": 3
      },
      "pygments_lexer": "ipython3",
      "nbconvert_exporter": "python",
      "file_extension": ".py"
    },
    "colab": {
      "name": "Lab_05_2_linear-regression_Tensorflow.ipynb",
      "provenance": [],
      "collapsed_sections": []
    }
  },
  "cells": [
    {
      "cell_type": "code",
      "metadata": {
        "_cell_guid": "79c7e3d0-c299-4dcb-8224-4455121ee9b0",
        "_uuid": "d629ff2d2480ee46fbb7e2d37f6b5fab8052498a",
        "trusted": true,
        "id": "v0BtAX1--7l_"
      },
      "source": [
        "# Import Numpy\n",
        "import numpy as np\n",
        "import pandas as pd \n",
        "import tensorflow as tf\n",
        "import matplotlib.pyplot as plt\n",
        "import seaborn as sns\n",
        "\n",
        "from tensorflow import keras\n",
        "from tensorflow.keras import layers\n",
        "from tensorflow.keras.layers.experimental import preprocessing\n",
        "from sklearn.preprocessing import Normalizer\n",
        "import sklearn.preprocessing"
      ],
      "execution_count": 14,
      "outputs": []
    },
    {
      "cell_type": "markdown",
      "metadata": {
        "_uuid": "ecc6e79cdfb6a8ca882895ccc895b61b960b0a04",
        "id": "i1HSrBDb-7t9"
      },
      "source": [
        "## Linear Regression Model using TensorFlow"
      ]
    },
    {
      "cell_type": "code",
      "metadata": {
        "trusted": true,
        "_uuid": "74bb18bd01ac809079eeb8d05695206e8ba02069",
        "id": "wCsxgTWO-7uM"
      },
      "source": [
        "# Input (temp, rainfall, humidity)\n",
        "inputs = np.array([[73, 67, 43], [91, 88, 64], [87, 134, 58], [102, 43, 37], [69, 96, 70], [73, 67, 43], [91, 88, 64], [87, 134, 58], [102, 43, 37], [69, 96, 70], [73, 67, 43], [91, 88, 64], [87, 134, 58], [102, 43, 37], [69, 96, 70]], dtype='float32')\n",
        "# Targets (apples)\n",
        "targets = np.array([[56], [81], [119], [22], [103], \n",
        "                    [56], [81], [119], [22], [103], \n",
        "                    [56], [81], [119], [22], [103]], dtype='float32')\n",
        "n = len(inputs) # Number of data points"
      ],
      "execution_count": 15,
      "outputs": []
    },
    {
      "cell_type": "code",
      "metadata": {
        "id": "PG5sep_RgD0M"
      },
      "source": [
        "from sklearn.model_selection import train_test_split\n",
        "main_data = pd.DataFrame(inputs, columns = ['temp','rainfall','humidity'])\n",
        "Y_rows = pd.DataFrame(targets, columns = ['apples'])\n",
        "\n",
        "X_train, X_test, Y_train, Y_test = train_test_split(main_data, Y_rows, test_size = 0.30, random_state = 12)"
      ],
      "execution_count": 16,
      "outputs": []
    },
    {
      "cell_type": "code",
      "metadata": {
        "trusted": true,
        "_uuid": "32588a47d0478772a1f08fa55874a322630bd0b6",
        "id": "c3Bf-Emn-7wj"
      },
      "source": [
        "test_results = {}"
      ],
      "execution_count": 17,
      "outputs": []
    },
    {
      "cell_type": "code",
      "metadata": {
        "colab": {
          "base_uri": "https://localhost:8080/"
        },
        "id": "awiCJB7HcLA1",
        "outputId": "2e3b1ac3-531a-4f51-84d3-da76f4c5ba20"
      },
      "source": [
        "norm_X_test = np.linalg.norm(X_test['rainfall'])\n",
        "norm_X_train = np.linalg.norm(X_train['rainfall'])\n",
        "# norm_Y_test = np.linalg.norm(Y_test['rainfall'])\n",
        "norm_Y_train = np.linalg.norm(Y_train['apples'])\n",
        "\n",
        "normal_array_X_test = X_test['rainfall']/norm_X_test\n",
        "normal_array_X_train = X_train['rainfall']/norm_X_train\n",
        "normal_array_Y_train = Y_train['apples']/norm_Y_train\n",
        "\n",
        "print(normal_array_X_train)\n",
        "print(normal_array_X_test)\n",
        "print(normal_array_Y_train)"
      ],
      "execution_count": 18,
      "outputs": [
        {
          "output_type": "stream",
          "name": "stdout",
          "text": [
            "6     0.282343\n",
            "9     0.308010\n",
            "11    0.282343\n",
            "12    0.429931\n",
            "8     0.137963\n",
            "0     0.214966\n",
            "1     0.282343\n",
            "7     0.429931\n",
            "2     0.429931\n",
            "5     0.214966\n",
            "Name: rainfall, dtype: float32\n",
            "13    0.263556\n",
            "14    0.588404\n",
            "3     0.263556\n",
            "10    0.410657\n",
            "4     0.588404\n",
            "Name: rainfall, dtype: float32\n",
            "6     0.287221\n",
            "9     0.365232\n",
            "11    0.287221\n",
            "12    0.421967\n",
            "8     0.078011\n",
            "0     0.198573\n",
            "1     0.287221\n",
            "7     0.421967\n",
            "2     0.421967\n",
            "5     0.198573\n",
            "Name: apples, dtype: float32\n"
          ]
        }
      ]
    },
    {
      "cell_type": "code",
      "metadata": {
        "colab": {
          "base_uri": "https://localhost:8080/"
        },
        "id": "elqW70N3cRK5",
        "outputId": "53d9278b-3f1d-460e-ac58-9c3eb2b910fa"
      },
      "source": [
        "normalizer = preprocessing.Normalization(axis = -1)\n",
        "normalizer.adapt(np.array(X_train))\n",
        "linear_model = tf.keras.Sequential([\n",
        "    normalizer,\n",
        "    layers.Dense(units = 1)\n",
        "])\n",
        "print(linear_model.predict(X_train[:9]))"
      ],
      "execution_count": 23,
      "outputs": [
        {
          "output_type": "stream",
          "name": "stdout",
          "text": [
            "[[ 1.3449788 ]\n",
            " [-0.47079486]\n",
            " [ 1.3449788 ]\n",
            " [-0.6307122 ]\n",
            " [ 1.357449  ]\n",
            " [-1.5147266 ]\n",
            " [ 1.3449788 ]\n",
            " [-0.6307122 ]\n",
            " [-0.6307122 ]]\n"
          ]
        }
      ]
    },
    {
      "cell_type": "code",
      "metadata": {
        "id": "_Tkgvs6McZ2z"
      },
      "source": [
        " linear_model.compile(\n",
        "    optimizer=tf.optimizers.Adam(learning_rate = 0.1),\n",
        "    loss='mean_absolute_error')"
      ],
      "execution_count": 20,
      "outputs": []
    },
    {
      "cell_type": "code",
      "metadata": {
        "id": "nYa71iCLcb0Q"
      },
      "source": [
        "history = linear_model.fit(\n",
        "    X_train, Y_train, \n",
        "    epochs = 1000,\n",
        "    # suppress logging\n",
        "    verbose=0,\n",
        "    # Calculate validation results on 20% of the training data\n",
        "    validation_split = 0.2)"
      ],
      "execution_count": 21,
      "outputs": []
    },
    {
      "cell_type": "code",
      "metadata": {
        "colab": {
          "base_uri": "https://localhost:8080/"
        },
        "id": "93urpITjceBU",
        "outputId": "e8e08e0b-0a04-49b7-d34c-b893b21d0943"
      },
      "source": [
        "test_results['linear_model'] = linear_model.evaluate(\n",
        "    X_test, Y_test, verbose = 0)\n",
        "\n",
        "test_results['linear_model']"
      ],
      "execution_count": 22,
      "outputs": [
        {
          "output_type": "execute_result",
          "data": {
            "text/plain": [
              "0.8364890813827515"
            ]
          },
          "metadata": {},
          "execution_count": 22
        }
      ]
    }
  ]
}
