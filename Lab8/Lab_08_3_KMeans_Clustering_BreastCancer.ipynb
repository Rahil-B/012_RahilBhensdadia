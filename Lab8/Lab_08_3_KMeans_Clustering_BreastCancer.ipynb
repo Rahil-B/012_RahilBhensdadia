{
  "nbformat": 4,
  "nbformat_minor": 0,
  "metadata": {
    "colab": {
      "name": "Lab_08_KMeans_Clustering_BreastCancer.ipynb",
      "provenance": []
    },
    "kernelspec": {
      "name": "python3",
      "display_name": "Python 3"
    },
    "language_info": {
      "name": "python"
    }
  },
  "cells": [
    {
      "cell_type": "markdown",
      "metadata": {
        "id": "bJTjaM75DPmE"
      },
      "source": [
        "## Write a python program to perform K-Means clustering on Breast Cancer Data"
      ]
    },
    {
      "cell_type": "code",
      "metadata": {
        "id": "Y9eI8rV7DSBD"
      },
      "source": [
        "import numpy as np \n",
        "import pandas as pd \n",
        "from sklearn import datasets\n",
        "from sklearn.cluster import KMeans\n",
        "from sklearn.metrics import accuracy_score, confusion_matrix\n",
        "import matplotlib.pyplot as plt"
      ],
      "execution_count": 46,
      "outputs": []
    },
    {
      "cell_type": "code",
      "metadata": {
        "colab": {
          "base_uri": "https://localhost:8080/"
        },
        "id": "-xHOOElmDTeb",
        "outputId": "116b443e-fd8c-4456-f3a0-33f92a2631c4"
      },
      "source": [
        "dataset=datasets.load_breast_cancer()\n",
        "print(dataset.data.shape)\n",
        "print(dataset.target.shape)\n",
        "print(dataset.feature_names)\n",
        "print(dataset.target_names)"
      ],
      "execution_count": 47,
      "outputs": [
        {
          "output_type": "stream",
          "name": "stdout",
          "text": [
            "(569, 30)\n",
            "(569,)\n",
            "['mean radius' 'mean texture' 'mean perimeter' 'mean area'\n",
            " 'mean smoothness' 'mean compactness' 'mean concavity'\n",
            " 'mean concave points' 'mean symmetry' 'mean fractal dimension'\n",
            " 'radius error' 'texture error' 'perimeter error' 'area error'\n",
            " 'smoothness error' 'compactness error' 'concavity error'\n",
            " 'concave points error' 'symmetry error' 'fractal dimension error'\n",
            " 'worst radius' 'worst texture' 'worst perimeter' 'worst area'\n",
            " 'worst smoothness' 'worst compactness' 'worst concavity'\n",
            " 'worst concave points' 'worst symmetry' 'worst fractal dimension']\n",
            "['malignant' 'benign']\n"
          ]
        }
      ]
    },
    {
      "cell_type": "code",
      "metadata": {
        "colab": {
          "base_uri": "https://localhost:8080/",
          "height": 279
        },
        "id": "YKLUqJoyDYFD",
        "outputId": "d622c8fc-9168-4b80-a724-49de97e91f81"
      },
      "source": [
        "# 0 for benign and 1 for malignant\n",
        "\n",
        "plt.scatter(dataset.data[:, 0], dataset.target, c='orange', marker='*')\n",
        "plt.xlabel('Features')\n",
        "plt.ylabel('Cancer Type')\n",
        "plt.show()"
      ],
      "execution_count": 48,
      "outputs": [
        {
          "output_type": "display_data",
          "data": {
            "image/png": "[encoded data removed]",
            "text/plain": [
              "<Figure size 432x288 with 1 Axes>"
            ]
          },
          "metadata": {
            "needs_background": "light"
          }
        }
      ]
    },
    {
      "cell_type": "code",
      "metadata": {
        "colab": {
          "base_uri": "https://localhost:8080/"
        },
        "id": "nPxnLAgpDczz",
        "outputId": "38537da4-9a24-48fc-fe31-b77b8bf657e8"
      },
      "source": [
        "kmeans = KMeans(n_clusters=3, random_state=12)\n",
        "prediction = kmeans.fit_predict(dataset.data)\n",
        "print(prediction)"
      ],
      "execution_count": 49,
      "outputs": [
        {
          "output_type": "stream",
          "name": "stdout",
          "text": [
            "[2 2 2 1 2 1 2 1 1 1 2 2 2 1 1 1 2 2 0 1 1 1 1 0 2 2 1 2 2 2 2 1 2 2 2 2 1\n",
            " 1 1 1 1 1 2 1 1 2 1 1 1 1 1 1 1 2 1 1 2 1 1 1 1 1 1 1 1 1 1 1 1 1 2 1 2 1\n",
            " 1 2 1 2 2 1 1 1 0 2 1 2 1 2 1 1 1 1 1 1 1 2 1 1 1 1 1 1 1 1 1 1 1 1 0 1 1\n",
            " 1 1 1 1 1 1 1 2 2 1 2 0 1 1 1 1 2 1 2 1 2 2 1 2 1 1 1 1 1 1 2 1 1 1 1 1 1\n",
            " 1 1 1 1 1 1 1 1 2 2 1 1 1 2 0 1 0 1 1 2 2 1 1 1 2 1 1 1 1 1 1 1 0 2 2 1 1\n",
            " 1 2 1 1 1 1 1 1 1 1 1 1 2 2 1 1 2 0 1 1 1 1 2 1 1 2 1 0 2 1 1 1 1 2 0 1 1\n",
            " 1 2 1 1 1 1 1 1 2 1 1 2 1 1 0 2 1 2 1 1 1 1 2 1 1 1 1 1 2 1 2 2 2 1 2 1 2\n",
            " 1 2 2 2 1 2 0 1 1 1 1 1 1 0 1 2 1 1 2 1 1 2 1 2 1 1 1 1 1 1 1 1 1 1 1 1 1\n",
            " 1 1 1 1 2 1 2 1 1 1 1 1 1 1 1 1 1 1 1 1 1 2 1 1 1 2 1 2 1 1 1 1 2 1 2 1 1\n",
            " 1 1 2 1 2 1 0 1 1 1 2 1 1 1 1 1 1 1 1 0 1 1 1 1 1 1 1 1 1 1 1 1 2 2 1 0 0\n",
            " 2 1 2 2 1 1 1 1 1 1 1 1 1 1 1 1 1 1 1 2 1 1 2 0 1 1 1 1 1 1 2 1 1 1 1 1 1\n",
            " 1 2 1 1 1 1 1 1 1 1 2 1 1 1 1 1 1 1 1 1 1 1 1 1 1 2 2 1 1 1 1 1 1 1 2 1 1\n",
            " 2 1 2 1 1 2 1 2 1 1 1 1 1 1 1 1 2 0 1 1 1 1 1 1 2 1 1 1 1 1 1 1 1 1 1 1 1\n",
            " 1 1 1 1 1 1 2 1 2 1 2 2 1 1 1 1 1 2 2 1 1 1 0 1 1 1 1 1 1 1 1 1 1 1 1 2 2\n",
            " 1 1 1 0 1 1 1 1 1 1 1 1 1 1 1 2 1 2 1 1 1 1 1 1 1 1 1 1 1 1 1 1 1 1 1 1 1\n",
            " 1 1 1 1 1 1 1 1 2 0 2 2 2 1]\n"
          ]
        }
      ]
    },
    {
      "cell_type": "code",
      "metadata": {
        "colab": {
          "base_uri": "https://localhost:8080/"
        },
        "id": "ysFYKizDDeX8",
        "outputId": "723d90c6-08e4-4835-bbfe-e1269930ff6c"
      },
      "source": [
        "kmeans.cluster_centers_.shape\n",
        "print(kmeans.cluster_centers_)"
      ],
      "execution_count": 50,
      "outputs": [
        {
          "output_type": "stream",
          "name": "stdout",
          "text": [
            "[[2.30730435e+01 2.26943478e+01 1.54034783e+02 1.68017391e+03\n",
            "  1.05770870e-01 1.72440000e-01 2.46491304e-01 1.36869565e-01\n",
            "  1.88839130e-01 5.95286957e-02 1.11823913e+00 1.24401739e+00\n",
            "  7.99991304e+00 1.76411304e+02 7.12726087e-03 3.61830435e-02\n",
            "  4.95626087e-02 1.64273913e-02 1.96008696e-02 3.87265217e-03\n",
            "  2.92273913e+01 2.99921739e+01 1.97756522e+02 2.64682609e+03\n",
            "  1.42491304e-01 3.90573913e-01 5.30439130e-01 2.29773913e-01\n",
            "  2.94786957e-01 8.29260870e-02]\n",
            " [1.24468918e+01 1.85046588e+01 8.03803294e+01 4.86458118e+02\n",
            "  9.48157176e-02 9.04881882e-02 6.08800016e-02 3.25494682e-02\n",
            "  1.77951765e-01 6.35771765e-02 3.00681647e-01 1.21837294e+00\n",
            "  2.12940400e+00 2.32080188e+01 7.17541647e-03 2.33490235e-02\n",
            "  2.84143873e-02 1.05452329e-02 2.07137600e-02 3.75171835e-03\n",
            "  1.38918094e+01 2.45948235e+01 9.09125412e+01 6.04658353e+02\n",
            "  1.29845529e-01 2.21074000e-01 2.14822228e-01 8.97035082e-02\n",
            "  2.82468471e-01 8.32831059e-02]\n",
            " [1.83290909e+01 2.13996694e+01 1.20875537e+02 1.05159669e+03\n",
            "  9.99966116e-02 1.40053058e-01 1.56888512e-01 8.96980992e-02\n",
            "  1.90977686e-01 6.06808264e-02 6.36642149e-01 1.20635289e+00\n",
            "  4.47762810e+00 7.46357851e+01 6.55238017e-03 3.09216198e-02\n",
            "  4.07559504e-02 1.53094876e-02 2.01190083e-02 3.93180992e-03\n",
            "  2.21563636e+01 2.86588430e+01 1.47482645e+02 1.51400826e+03\n",
            "  1.39306446e-01 3.44935207e-01 4.24592562e-01 1.80183058e-01\n",
            "  3.15899174e-01 8.64673554e-02]]\n"
          ]
        }
      ]
    },
    {
      "cell_type": "code",
      "metadata": {
        "colab": {
          "base_uri": "https://localhost:8080/",
          "height": 281
        },
        "id": "Si_Ixli6DgCV",
        "outputId": "488e3ef7-566a-4839-870b-8d6341b0e826"
      },
      "source": [
        "plt.scatter(dataset.data[:, 0], dataset.target, c='orange', marker='*')\n",
        "plt.scatter(kmeans.cluster_centers_[:, 0], kmeans.cluster_centers_[:, 1], c='green', marker='+')\n",
        "plt.title('Data points and cluster centroids')\n",
        "plt.show()"
      ],
      "execution_count": 51,
      "outputs": [
        {
          "output_type": "display_data",
          "data": {
            "image/png": "[encoded data removed]",
            "text/plain": [
              "<Figure size 432x288 with 1 Axes>"
            ]
          },
          "metadata": {
            "needs_background": "light"
          }
        }
      ]
    },
    {
      "cell_type": "code",
      "metadata": {
        "id": "d_CxG_zRDnaM"
      },
      "source": [
        "from scipy.stats import mode\n",
        "labels = np.zeros_like(prediction)\n",
        "for i in range(10):\n",
        "  mask = (prediction == i)\n",
        "  labels[mask] = mode(dataset.target[mask])[0]"
      ],
      "execution_count": 52,
      "outputs": []
    },
    {
      "cell_type": "code",
      "metadata": {
        "colab": {
          "base_uri": "https://localhost:8080/",
          "height": 296
        },
        "id": "JIVOhUgID18k",
        "outputId": "cf55f03e-cc3d-47ba-e8be-d44bb7905d22"
      },
      "source": [
        "import seaborn as sns\n",
        "\n",
        "mat = confusion_matrix(dataset.target, labels)\n",
        "ax = sns.heatmap(mat.T, square=True, annot=True, cbar=False, xticklabels=dataset.target_names, yticklabels=dataset.target_names)\n",
        "plt.xlabel('true label')\n",
        "plt.ylabel('predicted label')"
      ],
      "execution_count": 53,
      "outputs": [
        {
          "output_type": "execute_result",
          "data": {
            "text/plain": [
              "Text(91.68, 0.5, 'predicted label')"
            ]
          },
          "metadata": {},
          "execution_count": 53
        },
        {
          "output_type": "display_data",
          "data": {
            "image/png": "[encoded data removed]",
            "text/plain": [
              "<Figure size 432x288 with 1 Axes>"
            ]
          },
          "metadata": {
            "needs_background": "light"
          }
        }
      ]
    },
    {
      "cell_type": "code",
      "metadata": {
        "colab": {
          "base_uri": "https://localhost:8080/"
        },
        "id": "gnpjUy_WYb3M",
        "outputId": "e31642f0-ed18-4de0-d189-99ebeb5af2b3"
      },
      "source": [
        "accuracy_score(dataset.target, labels)"
      ],
      "execution_count": 54,
      "outputs": [
        {
          "output_type": "execute_result",
          "data": {
            "text/plain": [
              "0.8734622144112478"
            ]
          },
          "metadata": {},
          "execution_count": 54
        }
      ]
    }
  ]
}