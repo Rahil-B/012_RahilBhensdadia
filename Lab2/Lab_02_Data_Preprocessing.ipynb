{
  "nbformat": 4,
  "nbformat_minor": 0,
  "metadata": {
    "colab": {
      "name": "Lab_02_Data_Preprocessing.ipynb",
      "provenance": [],
      "collapsed_sections": [],
      "authorship_tag": "ABX9TyNsY/64IWB5kaJeexkomibc",
      "include_colab_link": true
    },
    "kernelspec": {
      "name": "python3",
      "display_name": "Python 3"
    },
    "language_info": {
      "name": "python"
    }
  },
  "cells": [
    {
      "cell_type": "markdown",
      "metadata": {
        "id": "view-in-github",
        "colab_type": "text"
      },
      "source": [
        "<a href=\"https://colab.research.google.com/github/r5racker/012_RahilBhensdadia/blob/main/Lab_02_Data_Preprocessing.ipynb\" target=\"_parent\"><img src=\"https://colab.research.google.com/assets/colab-badge.svg\" alt=\"Open In Colab\"/></a>"
      ]
    },
    {
      "cell_type": "markdown",
      "metadata": {
        "id": "ra5RC5EUzxwf"
      },
      "source": [
        "# **0. Import Libraries**"
      ]
    },
    {
      "cell_type": "code",
      "metadata": {
        "id": "aleNVWA90hkU"
      },
      "source": [
        "import numpy as np \n",
        "import pandas as pd\n",
        "from sklearn.preprocessing import MinMaxScaler, StandardScaler\n",
        "from sklearn.impute import SimpleImputer \n",
        "from sklearn.preprocessing import LabelEncoder\n",
        "import seaborn as sns"
      ],
      "execution_count": 120,
      "outputs": []
    },
    {
      "cell_type": "code",
      "metadata": {
        "colab": {
          "base_uri": "https://localhost:8080/"
        },
        "id": "jbXKiI3q06qP",
        "outputId": "367911fe-6174-4f53-d136-766a9911adfe"
      },
      "source": [
        "#Load Data\n",
        "from google.colab import drive\n",
        "drive.mount('/content/drive')"
      ],
      "execution_count": 119,
      "outputs": [
        {
          "output_type": "stream",
          "text": [
            "Drive already mounted at /content/drive; to attempt to forcibly remount, call drive.mount(\"/content/drive\", force_remount=True).\n"
          ],
          "name": "stdout"
        }
      ]
    },
    {
      "cell_type": "code",
      "metadata": {
        "colab": {
          "base_uri": "https://localhost:8080/"
        },
        "id": "ByFuEpzx09cx",
        "outputId": "e8ac522d-6490-4d0b-e15e-382f67f92e73"
      },
      "source": [
        "datasets = pd.read_csv('/content/drive/MyDrive/Sem7/My_ML/Lab2/Datasets/Exercise-CarData.csv', index_col=[0])\n",
        "print(\"\\nData :\\n\",datasets)\n",
        "\n",
        "print(\"\\nData statistics\\n\",datasets.describe())"
      ],
      "execution_count": 121,
      "outputs": [
        {
          "output_type": "stream",
          "text": [
            "\n",
            "Data :\n",
            "       Price   Age     KM FuelType  ... Automatic    CC  Doors  Weight\n",
            "0     13500  23.0  46986   Diesel  ...         0  2000  three    1165\n",
            "1     13750  23.0  72937   Diesel  ...         0  2000      3    1165\n",
            "2     13950  24.0  41711   Diesel  ...         0  2000      3    1165\n",
            "3     14950  26.0  48000   Diesel  ...         0  2000      3    1165\n",
            "4     13750  30.0  38500   Diesel  ...         0  2000      3    1170\n",
            "...     ...   ...    ...      ...  ...       ...   ...    ...     ...\n",
            "1431   7500   NaN  20544   Petrol  ...         0  1300      3    1025\n",
            "1432  10845  72.0     ??   Petrol  ...         0  1300      3    1015\n",
            "1433   8500   NaN  17016   Petrol  ...         0  1300      3    1015\n",
            "1434   7250  70.0     ??      NaN  ...         0  1300      3    1015\n",
            "1435   6950  76.0      1   Petrol  ...         0  1600      5    1114\n",
            "\n",
            "[1436 rows x 10 columns]\n",
            "\n",
            "Data statistics\n",
            "               Price          Age  ...           CC      Weight\n",
            "count   1436.000000  1336.000000  ...  1436.000000  1436.00000\n",
            "mean   10730.824513    55.672156  ...  1566.827994  1072.45961\n",
            "std     3626.964585    18.589804  ...   187.182436    52.64112\n",
            "min     4350.000000     1.000000  ...  1300.000000  1000.00000\n",
            "25%     8450.000000    43.000000  ...  1400.000000  1040.00000\n",
            "50%     9900.000000    60.000000  ...  1600.000000  1070.00000\n",
            "75%    11950.000000    70.000000  ...  1600.000000  1085.00000\n",
            "max    32500.000000    80.000000  ...  2000.000000  1615.00000\n",
            "\n",
            "[8 rows x 6 columns]\n"
          ],
          "name": "stdout"
        }
      ]
    },
    {
      "cell_type": "markdown",
      "metadata": {
        "id": "VrwXlHmFyQux"
      },
      "source": [
        "## **1. Apply LabelEncoder on the data to convert string labels into numeric values**"
      ]
    },
    {
      "cell_type": "code",
      "metadata": {
        "colab": {
          "base_uri": "https://localhost:8080/"
        },
        "id": "GDZwypz6Htdq",
        "outputId": "450e9ac4-16e1-46b3-e733-2ebbc155439b"
      },
      "source": [
        "datasets.dropna(how='all',inplace=True)\n",
        "#print(\"\\nNew Data :\",datasets)\n",
        "print(datasets.dtypes)\n",
        "# All rows, all columns except last \n",
        "new_X = datasets.iloc[:, :-1].values\n",
        "# Only last column  \n",
        "new_Y = datasets.iloc[:, -1].values \n",
        "\n",
        "#FuelType\n",
        "new_X[:,3]=new_X[:,3].astype('str')\n",
        "le = LabelEncoder()\n",
        "new_X[ : ,3] = le.fit_transform(new_X[ : ,3])\n",
        "\n",
        "print(\"\\n\\nInput before imputation : \\n\\n\", new_X[6])\n"
      ],
      "execution_count": 122,
      "outputs": [
        {
          "output_type": "stream",
          "text": [
            "Price          int64\n",
            "Age          float64\n",
            "KM            object\n",
            "FuelType      object\n",
            "HP            object\n",
            "MetColor     float64\n",
            "Automatic      int64\n",
            "CC             int64\n",
            "Doors         object\n",
            "Weight         int64\n",
            "dtype: object\n",
            "\n",
            "\n",
            "Input before imputation : \n",
            "\n",
            " [16900 27.0 '??' 1 '????' nan 0 2000 '3']\n"
          ],
          "name": "stdout"
        }
      ]
    },
    {
      "cell_type": "markdown",
      "metadata": {
        "id": "tKCCyRv5y2oT"
      },
      "source": [
        "## **2. Handling null values Imputation (Replacing null values with mean and mode value of that attribute)**"
      ]
    },
    {
      "cell_type": "code",
      "metadata": {
        "colab": {
          "base_uri": "https://localhost:8080/"
        },
        "id": "rD7kBlBy2H0i",
        "outputId": "0d2216f5-bab7-4287-8adb-acf461b7ee95"
      },
      "source": [
        "\n",
        "\n",
        "str_to_num_dictionary={\"zero\":0,\"one\":1,\"two\":2,\"three\":3,\"four\":4,\"five\":5,\"six\":6,\"seven\":7,\"eight\":8,\"nune\":9,\"ten\":10}\n",
        "\n",
        "# 3b. Imputation (Replacing null values with mean value of that attribute)\n",
        "#for col-3\n",
        "for i in range(new_X[:,3].size):\n",
        "  #KM\n",
        "  if new_X[i,2]==\"??\":\n",
        "    new_X[i,2]=np.nan\n",
        "  #HP\n",
        "  if new_X[i,4]==\"????\":\n",
        "    new_X[i,4]=np.nan\n",
        "  #Doors\n",
        "  temp_str = str(new_X[i,8])\n",
        "  if temp_str.isnumeric():\n",
        "    new_X[i,8]=int(temp_str)\n",
        "  else:\n",
        "    new_X[i,8]=str_to_num_dictionary[temp_str]\n",
        "# Using Imputer function to replace NaN values with mean of that parameter value \n",
        "imputer = SimpleImputer(missing_values = np.nan,strategy = \"mean\")\n",
        "mode_imputer = SimpleImputer(missing_values = np.nan,strategy = \"most_frequent\")\n",
        "\n",
        "# Fitting the data, function learns the stats \n",
        "the_imputer = imputer.fit(new_X[:, 0:3])\n",
        "# fit_transform() will execute those stats on the input ie. X[:, 1:3] \n",
        "new_X[:, 0:3] = the_imputer.transform(new_X[:, 0:3])\n",
        "\n",
        "# Fitting the data, function learns the stats \n",
        "the_mode_imputer = mode_imputer.fit(new_X[:, 3:4])   \n",
        "new_X[:, 3:4] = the_mode_imputer.transform(new_X[:, 3:4])\n",
        "\n",
        "# Fitting the data, function learns the stats \n",
        "the_imputer = imputer.fit(new_X[:, 4:5])\n",
        "new_X[:, 4:5] = the_imputer.transform(new_X[:, 4:5])\n",
        "\n",
        "# Fitting the data, function learns the stats \n",
        "the_mode_imputer = mode_imputer.fit(new_X[:, 5:6])   \n",
        "new_X[:, 5:6] = the_mode_imputer.transform(new_X[:, 5:6])\n",
        "\n",
        "# filling the missing value with mean \n",
        "print(\"\\n\\nNew Input with Mean Value for NaN : \\n\\n\", new_X[6])"
      ],
      "execution_count": 123,
      "outputs": [
        {
          "output_type": "stream",
          "text": [
            "\n",
            "\n",
            "New Input with Mean Value for NaN : \n",
            "\n",
            " [16900.0 27.0 68647.23997185081 1 101.47832167832168 1.0 0 2000 3]\n"
          ],
          "name": "stdout"
        }
      ]
    },
    {
      "cell_type": "markdown",
      "metadata": {
        "id": "--0eMZ5ex0Qp"
      },
      "source": [
        "**Converting Numpy NdArray to pandas dataframe**"
      ]
    },
    {
      "cell_type": "code",
      "metadata": {
        "colab": {
          "base_uri": "https://localhost:8080/"
        },
        "id": "7EoaO78CsTZs",
        "outputId": "cd4e1bee-b107-4626-a836-ab742ae0267f"
      },
      "source": [
        "new_datasets = pd.DataFrame(new_X,columns=datasets.columns[:-1])\n",
        "new_datasets = new_datasets.astype(float)\n",
        "new_datasets.dtypes"
      ],
      "execution_count": 124,
      "outputs": [
        {
          "output_type": "execute_result",
          "data": {
            "text/plain": [
              "Price        float64\n",
              "Age          float64\n",
              "KM           float64\n",
              "FuelType     float64\n",
              "HP           float64\n",
              "MetColor     float64\n",
              "Automatic    float64\n",
              "CC           float64\n",
              "Doors        float64\n",
              "dtype: object"
            ]
          },
          "metadata": {
            "tags": []
          },
          "execution_count": 124
        }
      ]
    },
    {
      "cell_type": "markdown",
      "metadata": {
        "id": "GFPSQytTyDHC"
      },
      "source": [
        "## **3. Feature Selection**"
      ]
    },
    {
      "cell_type": "code",
      "metadata": {
        "id": "NEjln3Zh1iC0",
        "colab": {
          "base_uri": "https://localhost:8080/",
          "height": 463
        },
        "outputId": "1fc980cf-f318-44ac-9486-5daa5c16a1f4"
      },
      "source": [
        "#feature selection\n",
        "corr = new_datasets.corr()\n",
        "print(corr.head())\n",
        "sns.heatmap(corr)"
      ],
      "execution_count": 125,
      "outputs": [
        {
          "output_type": "stream",
          "text": [
            "             Price       Age        KM  ...  Automatic        CC     Doors\n",
            "Price     1.000000 -0.845111 -0.565016  ...   0.033081  0.165067  0.185326\n",
            "Age      -0.845111  1.000000  0.495199  ...   0.030931 -0.116255 -0.151785\n",
            "KM       -0.565016  0.495199  1.000000  ...  -0.080743  0.296281 -0.036021\n",
            "FuelType  0.022730  0.033599 -0.356238  ...   0.073860 -0.499114 -0.018434\n",
            "HP        0.308414 -0.152946 -0.332984  ...   0.013753  0.053466  0.096938\n",
            "\n",
            "[5 rows x 9 columns]\n"
          ],
          "name": "stdout"
        },
        {
          "output_type": "execute_result",
          "data": {
            "text/plain": [
              "<matplotlib.axes._subplots.AxesSubplot at 0x7fd3beb7a350>"
            ]
          },
          "metadata": {
            "tags": []
          },
          "execution_count": 125
        },
        {
          "output_type": "display_data",
          "data": {
            "image/png": "[encoded data removed]",
            "text/plain": [
              "<Figure size 432x288 with 2 Axes>"
            ]
          },
          "metadata": {
            "tags": [],
            "needs_background": "light"
          }
        }
      ]
    },
    {
      "cell_type": "code",
      "metadata": {
        "id": "Cfs1bvw91l5O",
        "colab": {
          "base_uri": "https://localhost:8080/"
        },
        "outputId": "3e3d2d68-1e5f-4da4-8bf0-ccb5d095f6ae"
      },
      "source": [
        "columns = np.full((len(new_datasets.columns),), True, dtype=bool)\n",
        "for i in range(corr.shape[0]):\n",
        "    for j in range(i+1, corr.shape[0]):\n",
        "        if corr.iloc[i,j] >= 0.9:\n",
        "            if columns[j]:\n",
        "                columns[j] = False\n",
        "selected_columns = new_datasets.columns[columns]\n",
        "print(selected_columns)"
      ],
      "execution_count": 126,
      "outputs": [
        {
          "output_type": "stream",
          "text": [
            "Index(['Price', 'Age', 'KM', 'FuelType', 'HP', 'MetColor', 'Automatic', 'CC',\n",
            "       'Doors'],\n",
            "      dtype='object')\n"
          ],
          "name": "stdout"
        }
      ]
    },
    {
      "cell_type": "code",
      "metadata": {
        "id": "JTZt6u27xeeu"
      },
      "source": [
        "new_datasets = new_datasets[selected_columns]"
      ],
      "execution_count": 127,
      "outputs": []
    },
    {
      "cell_type": "markdown",
      "metadata": {
        "id": "gsviYRFezCvz"
      },
      "source": [
        "## **4. Scaling and Transformation**"
      ]
    },
    {
      "cell_type": "code",
      "metadata": {
        "id": "m0AHaiVssrJm"
      },
      "source": [
        "# Step 5a : Perform scaling and standardization\n",
        "new_X = new_datasets.iloc[:, :-1].values\n",
        "scaler = MinMaxScaler()\n",
        "std = StandardScaler()\n",
        "new_X[:,0:3] = std.fit_transform(scaler.fit_transform(new_X[:,0:3]))\n",
        "new_X[:,4:5] = std.fit_transform(scaler.fit_transform(new_X[:,4:5]))\n",
        "new_X[:,7:9] = std.fit_transform(scaler.fit_transform(new_X[:,7:9]))"
      ],
      "execution_count": 128,
      "outputs": []
    },
    {
      "cell_type": "code",
      "metadata": {
        "colab": {
          "base_uri": "https://localhost:8080/"
        },
        "id": "b6S3F0XPw5VI",
        "outputId": "5315814f-eec7-466f-dc15-1ad5ae25f1a4"
      },
      "source": [
        "print(\"Dataset after preprocessing\\n\\n\",new_datasets)"
      ],
      "execution_count": 132,
      "outputs": [
        {
          "output_type": "stream",
          "text": [
            "Dataset after preprocessing\n",
            "\n",
            "          Price           Age        KM  ...  Automatic        CC  Doors\n",
            "0     0.763763 -1.822802e+00 -0.583476  ...        0.0  2.314976    3.0\n",
            "1     0.832715 -1.822802e+00  0.115551  ...        0.0  2.314976    3.0\n",
            "2     0.887877 -1.767012e+00 -0.725566  ...        0.0  2.314976    3.0\n",
            "3     1.163685 -1.655430e+00 -0.556163  ...        0.0  2.314976    3.0\n",
            "4     0.832715 -1.432267e+00 -0.812059  ...        0.0  2.314976    3.0\n",
            "...        ...           ...       ...  ...        ...       ...    ...\n",
            "1431 -0.891089 -4.893269e-16 -1.295729  ...        0.0 -1.425994    3.0\n",
            "1432  0.031491  9.109418e-01  0.000000  ...        0.0 -1.425994    3.0\n",
            "1433 -0.615281 -4.893269e-16 -1.390761  ...        0.0 -1.425994    3.0\n",
            "1434 -0.960042  7.993604e-01  0.000000  ...        0.0 -1.425994    3.0\n",
            "1435 -1.042784  1.134105e+00 -1.849084  ...        0.0  0.177279    5.0\n",
            "\n",
            "[1436 rows x 9 columns]\n"
          ],
          "name": "stdout"
        }
      ]
    },
    {
      "cell_type": "code",
      "metadata": {
        "id": "HLG0bbebxnXN"
      },
      "source": [
        ""
      ],
      "execution_count": null,
      "outputs": []
    }
  ]
}