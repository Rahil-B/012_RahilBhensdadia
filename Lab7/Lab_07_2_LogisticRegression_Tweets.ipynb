{
  "nbformat": 4,
  "nbformat_minor": 0,
  "metadata": {
    "coursera": {
      "schema_names": [
        "NLPC1-1"
      ]
    },
    "kernelspec": {
      "display_name": "Python 3",
      "language": "python",
      "name": "python3"
    },
    "language_info": {
      "codemirror_mode": {
        "name": "ipython",
        "version": 3
      },
      "file_extension": ".py",
      "mimetype": "text/x-python",
      "name": "python",
      "nbconvert_exporter": "python",
      "pygments_lexer": "ipython3",
      "version": "3.7.1"
    },
    "colab": {
      "name": "Lab_07_2_LogisticRegression-Tweets.ipynb",
      "provenance": [],
      "collapsed_sections": [
        "MczxmfJiFNvN",
        "9oIitRd3FNyi",
        "vll8RGjeFNy5"
      ]
    }
  },
  "cells": [
    {
      "cell_type": "markdown",
      "metadata": {
        "id": "HQ_69fJ8FNrZ"
      },
      "source": [
        "# Aim:\n",
        "* Extract features for logistic regression given some text\n",
        "* Implement logistic regression from scratch\n",
        "* Apply logistic regression on a natural language processing task\n",
        "* Test logistic regression\n",
        "\n",
        "We will be using a data set of tweets."
      ]
    },
    {
      "cell_type": "markdown",
      "metadata": {
        "id": "3Bab5_YEFNrf"
      },
      "source": [
        "## Import functions and data"
      ]
    },
    {
      "cell_type": "code",
      "metadata": {
        "id": "ltnC-DbVFNrl"
      },
      "source": [
        "import nltk\n",
        "from nltk.corpus import twitter_samples \n",
        "import pandas as pd\n",
        "import tensorflow as tf\n",
        "from tensorflow.python.framework.ops import disable_eager_execution\n",
        "disable_eager_execution()"
      ],
      "execution_count": 59,
      "outputs": []
    },
    {
      "cell_type": "code",
      "metadata": {
        "id": "nEw35lgbIKmJ",
        "colab": {
          "base_uri": "https://localhost:8080/"
        },
        "outputId": "41c53299-ddeb-4aed-d4a6-0410f5524b7f"
      },
      "source": [
        "\n",
        "nltk.download('twitter_samples')\n",
        "nltk.download('stopwords')"
      ],
      "execution_count": 60,
      "outputs": [
        {
          "output_type": "stream",
          "name": "stdout",
          "text": [
            "[nltk_data] Downloading package twitter_samples to /root/nltk_data...\n",
            "[nltk_data]   Package twitter_samples is already up-to-date!\n",
            "[nltk_data] Downloading package stopwords to /root/nltk_data...\n",
            "[nltk_data]   Package stopwords is already up-to-date!\n"
          ]
        },
        {
          "output_type": "execute_result",
          "data": {
            "text/plain": [
              "True"
            ]
          },
          "metadata": {},
          "execution_count": 60
        }
      ]
    },
    {
      "cell_type": "code",
      "metadata": {
        "id": "K8zAwNf3IcwC"
      },
      "source": [
        "import re\n",
        "import string\n",
        "import numpy as np\n",
        "\n",
        "from nltk.corpus import stopwords\n",
        "from nltk.stem import PorterStemmer\n",
        "from nltk.tokenize import TweetTokenizer"
      ],
      "execution_count": 61,
      "outputs": []
    },
    {
      "cell_type": "markdown",
      "metadata": {
        "id": "oGnXuaKknxtb"
      },
      "source": [
        "# Preprocessing"
      ]
    },
    {
      "cell_type": "code",
      "metadata": {
        "id": "VOkRSbEw1Shr"
      },
      "source": [
        "#process_tweet(): cleans the text, tokenizes it into separate words, removes stopwords, and converts words to stems.\n",
        "def process_tweet(tweet):\n",
        "    \"\"\"Process tweet function.\n",
        "    Input:\n",
        "        tweet: a string containing a tweet\n",
        "    Output:\n",
        "        tweets_clean: a list of words containing the processed tweet\n",
        "\n",
        "    \"\"\"\n",
        "    stemmer = PorterStemmer()\n",
        "    stopwords_english = stopwords.words('english')\n",
        "\n",
        "    # remove stock market tickers like $GE\n",
        "    tweet = re.sub(r'\\$\\w*', '', tweet)\n",
        "    # remove old style retweet text \"RT\"\n",
        "    tweet = re.sub(r'^RT[\\s]+', '', tweet)\n",
        "    # remove hyperlinks\n",
        "    tweet = re.sub(r'https?:\\/\\/.*[\\r\\n]*', '', tweet)\n",
        "    # remove hashtags\n",
        "    # only removing the hash # sign from the word\n",
        "    tweet = re.sub(r'#', '', tweet)\n",
        "    # tokenize tweets\n",
        "    tokenizer = TweetTokenizer(preserve_case=False, strip_handles=True,\n",
        "                               reduce_len=True)\n",
        "    tweet_tokens = tokenizer.tokenize(tweet)\n",
        "\n",
        "    tweets_clean = []\n",
        "    for word in tweet_tokens:\n",
        "      if (word not in stopwords_english and word not in string.punctuation):  \n",
        "        stem_word = stemmer.stem(word)\n",
        "        tweets_clean.append(stem_word)\n",
        "    return tweets_clean"
      ],
      "execution_count": 62,
      "outputs": []
    },
    {
      "cell_type": "code",
      "metadata": {
        "id": "f6v_JLxe1ZXh"
      },
      "source": [
        "#build_freqs counts how often a word in the 'corpus' (the entire set of tweets) was associated with\n",
        "  # a positive label '1'         or \n",
        "  # a negative label '0', \n",
        "\n",
        "#then builds the freqs dictionary, where each key is a (word,label) tuple, \n",
        "\n",
        "#and the value is the count of its frequency within the corpus of tweets.\n",
        "\n",
        "def build_freqs(tweets, ys):\n",
        "    \"\"\"Build frequencies.\n",
        "    Input:\n",
        "        tweets: a list of tweets\n",
        "        ys: an m x 1 array with the sentiment label of each tweet\n",
        "            (either 0 or 1)\n",
        "    Output:\n",
        "        freqs: a dictionary mapping each (word, sentiment) pair to its\n",
        "        frequency\n",
        "    \"\"\"\n",
        "    yslist = np.squeeze(ys).tolist()\n",
        "    freqs = {}\n",
        "\n",
        "    for y, tweet in zip(yslist, tweets):\n",
        "        for word in process_tweet(tweet):\n",
        "            pair = (word, y)\n",
        "            #Update the count of pair if present, set it to 1 otherwise\n",
        "            if pair in freqs:\n",
        "                freqs[pair] += 1\n",
        "            else:\n",
        "                freqs[pair] = 1\n",
        "\n",
        "    return freqs"
      ],
      "execution_count": 63,
      "outputs": []
    },
    {
      "cell_type": "markdown",
      "metadata": {
        "id": "zG07lgkRFNtF"
      },
      "source": [
        "### Prepare the data\n",
        "* The `twitter_samples` contains subsets of 5,000 positive tweets, 5,000 negative tweets, and the full set of 10,000 tweets.  "
      ]
    },
    {
      "cell_type": "code",
      "metadata": {
        "id": "Mt_btshaFNtJ"
      },
      "source": [
        "# select the set of positive and negative tweets\n",
        "all_positive_tweets = twitter_samples.strings('positive_tweets.json')\n",
        "all_negative_tweets = twitter_samples.strings('negative_tweets.json')"
      ],
      "execution_count": 64,
      "outputs": []
    },
    {
      "cell_type": "code",
      "metadata": {
        "id": "PNp1zFFmFNuA"
      },
      "source": [
        "# split the data into two pieces, one for training and one for testing\n",
        "test_pos = all_positive_tweets[4000:]\n",
        "train_pos = all_positive_tweets[:4000]\n",
        "test_neg = all_negative_tweets[4000:]\n",
        "train_neg = all_negative_tweets[:4000]\n",
        "\n",
        "x_train = np.array(train_pos + train_neg)\n",
        "x_test = np.array(test_pos + test_neg)"
      ],
      "execution_count": 65,
      "outputs": []
    },
    {
      "cell_type": "code",
      "metadata": {
        "id": "xS1wvGq7FNuX"
      },
      "source": [
        "# combine positive and negative labels\n",
        "y_train = np.append(np.ones((len(train_pos), 1)), np.zeros((len(train_neg), 1)), axis=0)\n",
        "y_test = np.append(np.ones((len(test_pos), 1)), np.zeros((len(test_neg), 1)), axis=0)"
      ],
      "execution_count": 66,
      "outputs": []
    },
    {
      "cell_type": "code",
      "metadata": {
        "id": "ggrsgUh4FNu5",
        "colab": {
          "base_uri": "https://localhost:8080/"
        },
        "outputId": "ed4f1d5f-3aaf-4f82-dca5-546c88ad3d29"
      },
      "source": [
        "# create frequency dictionary\n",
        "freqs = build_freqs(x_train,y_train)"
      ],
      "execution_count": 67,
      "outputs": [
        {
          "output_type": "stream",
          "name": "stdout",
          "text": [
            "type(freqs) = <class 'dict'>\n",
            "len(freqs) = 11346\n"
          ]
        }
      ]
    },
    {
      "cell_type": "code",
      "metadata": {
        "id": "tBqwBhBoFNx0"
      },
      "source": [
        "def extract_features(tweet, freqs):\n",
        "    '''\n",
        "    Input: \n",
        "        tweet: a list of words for one tweet\n",
        "        freqs: a dictionary corresponding to the frequencies of each tuple (word, label)\n",
        "    Output: \n",
        "        x: a feature vector of dimension (1,3)\n",
        "    '''\n",
        "    # tokenizes, stems, and removes stopwords\n",
        "    #############################################################\n",
        "    word_l =  process_tweet(tweet)\n",
        "    \n",
        "    x = np.zeros((1, 2)) \n",
        "        \n",
        "    # loop through each word in the list of words\n",
        "    for word in word_l:\n",
        "        \n",
        "        # increment the word count for the positive label 1\n",
        "        x[0,0] += freqs.get((word, 1.0),0)\n",
        "        \n",
        "        # increment the word count for the negative label 0\n",
        "        x[0,1] += freqs.get((word, 0.0),0)\n",
        "        \n",
        "    \n",
        "    assert(x.shape == (1, 2))\n",
        "    return x"
      ],
      "execution_count": 69,
      "outputs": []
    },
    {
      "cell_type": "markdown",
      "metadata": {
        "id": "q3TxKEdZisVO"
      },
      "source": [
        "# Model"
      ]
    },
    {
      "cell_type": "code",
      "metadata": {
        "id": "o6CDS5ptiv1O"
      },
      "source": [
        "class TweetLogisticRegressionModel:\n",
        "  \n",
        "  def fit(self, x, y,freq, alpha = 1e-4, epochs = 20, threshold_val = 0.5, record_epoch = False):\n",
        "    self.threshold_val = threshold_val\n",
        "    self._freq = freq\n",
        "    self._shape = 2\n",
        "    self._inputs = x\n",
        "    self._tlen = len(y)\n",
        "\n",
        "    # return sample of standard normal distribution\n",
        "    self._bias = tf.Variable(np.random.randn(1), name = \"Bias\")\n",
        "    self._weights = tf.Variable(np.random.randn(1, self._shape), name = \"Weight\")\n",
        "    self._tinit = tf.compat.v1.global_variables_initializer()\n",
        "    \n",
        "    self._targets = y\n",
        "    self.alpha = alpha\n",
        "    self.epochs = epochs\n",
        "    self._repoch = record_epoch\n",
        "    self.__trainModel()\n",
        "    return\n",
        "\n",
        "\n",
        "  def __initSaver(self):\n",
        "    saver = tf.compat.v1.train.Saver()\n",
        "    self._saver = saver\n",
        "    self._sesspath = 'TSession'\n",
        "    return\n",
        "\n",
        "\n",
        "  def threshold(self, val):\n",
        "    if (val >= self.threshold_val):\n",
        "      return (1)\n",
        "    return (0)\n",
        "\n",
        "\n",
        "  def predict(self, indata):\n",
        "    with tf.compat.v1.Session() as sess:\n",
        "      self._saver.restore(sess,save_path = self._sesspath)\n",
        "      indata = self.__transform_data(indata)\n",
        "      return sess.run(tf.nn.sigmoid(tf.add(tf.matmul(a = indata, b = self._weights, transpose_b = True), self._bias)))\n",
        "    print(\"Failed To Retrieve Session\")\n",
        "    return\n",
        "\n",
        "\n",
        "  def getAccDets(self):\n",
        "    if self._repoch:\n",
        "      return self.__accurary_det\n",
        "    return\n",
        "\n",
        "\n",
        "  def __trainModel(self):\n",
        "    if self._repoch:\n",
        "      self._err = []\n",
        "      self._precs = []\n",
        "      self.__accurary_det = []\n",
        "    \n",
        "    # model of logistic regreesion of tensorflow.\n",
        "    logi = tf.nn.sigmoid(tf.add(tf.matmul(a = self._inputs, b = self._weights, transpose_b = True), self._bias))\n",
        "    err = tf.nn.sigmoid_cross_entropy_with_logits(logits = logi, labels = self._targets)\n",
        "    temp = tf.compat.v1.train.GradientDescentOptimizer(learning_rate = self.alpha, name='GradientDescent').minimize(err)\n",
        "    self.__initSaver()\n",
        "    with tf.compat.v1.Session() as sess:\n",
        "      sess.run(self._tinit)\n",
        "      print(\"Bias\", sess.run(self._bias))\n",
        "      print(\"Weights\", sess.run(self._weights))\n",
        "      for epoch in range(self.epochs):\n",
        "        sess.run(temp)\n",
        "        __preds = sess.run(logi)\n",
        "        acc = ((__preds == self._targets).sum()) / self._tlen\n",
        "        if self._repoch:\n",
        "          self.__accurary_det.append(acc)\n",
        "        if epoch % 10 == 0:\n",
        "          print(\"Acc:\", acc)\n",
        "        # print(self.__accurary_det)\n",
        "      self._saver.save(sess, self._sesspath)\n",
        "    return"
      ],
      "execution_count": 86,
      "outputs": []
    },
    {
      "cell_type": "code",
      "metadata": {
        "colab": {
          "base_uri": "https://localhost:8080/"
        },
        "id": "4G7HBsNTkOva",
        "outputId": "a51aceb7-fdc9-4836-d64a-4aa75c7f521d"
      },
      "source": [
        "X = np.zeros((len(x_train), 2))\n",
        "for i in range(len(x_train)):\n",
        "    X[i, :]= extract_features(x_train[i], freqs)\n",
        "\n",
        "model = TweetLogisticRegressionModel()\n",
        "model.fit(x=X,y=y_train,freq=freqs, alpha=0.01, record_epoch=True, epochs = 100)"
      ],
      "execution_count": 87,
      "outputs": [
        {
          "output_type": "stream",
          "name": "stdout",
          "text": [
            "Bias [0.36196477]\n",
            "Weights [[-0.51923439 -1.14085343]]\n",
            "Acc: 0.469375\n",
            "Acc: 0.468125\n",
            "Acc: 0.46725\n",
            "Acc: 0.4655\n",
            "Acc: 0.532875\n",
            "Acc: 0.532875\n",
            "Acc: 0.532875\n",
            "Acc: 0.532875\n",
            "Acc: 0.532875\n",
            "Acc: 0.532875\n"
          ]
        }
      ]
    },
    {
      "cell_type": "code",
      "metadata": {
        "id": "1Wg7LcB_k3RL"
      },
      "source": [
        ""
      ],
      "execution_count": 84,
      "outputs": []
    }
  ]
}