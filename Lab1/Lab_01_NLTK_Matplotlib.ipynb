{
  "nbformat": 4,
  "nbformat_minor": 0,
  "metadata": {
    "colab": {
      "name": "Lab_01_NLTK_Matplotlib.ipynb",
      "provenance": [],
      "collapsed_sections": [],
      "include_colab_link": true
    },
    "kernelspec": {
      "name": "python3",
      "display_name": "Python 3"
    },
    "language_info": {
      "name": "python"
    }
  },
  "cells": [
    {
      "cell_type": "markdown",
      "metadata": {
        "id": "view-in-github",
        "colab_type": "text"
      },
      "source": [
        "<a href=\"https://colab.research.google.com/github/r5racker/012_RahilBhensdadia/blob/main/Lab_01_NLTK_Matplotlib.ipynb\" target=\"_parent\"><img src=\"https://colab.research.google.com/assets/colab-badge.svg\" alt=\"Open In Colab\"/></a>"
      ]
    },
    {
      "cell_type": "code",
      "metadata": {
        "colab": {
          "base_uri": "https://localhost:8080/"
        },
        "id": "1LgotGxulzkh",
        "outputId": "ec2fcec8-faf1-4142-9372-83deeffbca96"
      },
      "source": [
        "from google.colab import drive\n",
        "drive.mount(\"/content/drive\")"
      ],
      "execution_count": null,
      "outputs": [
        {
          "output_type": "stream",
          "text": [
            "Mounted at /content/drive\n"
          ],
          "name": "stdout"
        }
      ]
    },
    {
      "cell_type": "code",
      "metadata": {
        "id": "o0PpL5rNmRWm"
      },
      "source": [
        "# importing libraries\n",
        "import nltk\n",
        "import matplotlib.pyplot as plt\n",
        "import pandas as pd"
      ],
      "execution_count": null,
      "outputs": []
    },
    {
      "cell_type": "code",
      "metadata": {
        "colab": {
          "base_uri": "https://localhost:8080/"
        },
        "id": "1UJQcWdbuqBP",
        "outputId": "1bc798d4-8f59-4d1e-fd79-65cd3cfd0027"
      },
      "source": [
        "# Raw Text Analysis\n",
        "random_text = \"\"\"Discussing climate, sustainability, and preserving the natural world with President @EmmanuelMacron today in Paris. #BezosEarthFund #ClimatePledge\"\"\"\n",
        "\n",
        "import re\n",
        "import string\n",
        "from nltk.corpus import stopwords\n",
        "from nltk.stem import PorterStemmer\n",
        "from nltk.tokenize import TweetTokenizer\n",
        "\n",
        "remove_link_text = re.sub(r'https?:\\/\\/.*[\\r\\n]*', '', random_text)\n",
        "remove_link_text = re.sub(r'#', '', remove_link_text)\n",
        "print(remove_link_text)"
      ],
      "execution_count": null,
      "outputs": [
        {
          "output_type": "stream",
          "text": [
            "Discussing climate, sustainability, and preserving the natural world with President @EmmanuelMacron today in Paris. BezosEarthFund ClimatePledge\n"
          ],
          "name": "stdout"
        }
      ]
    },
    {
      "cell_type": "code",
      "metadata": {
        "colab": {
          "base_uri": "https://localhost:8080/"
        },
        "id": "xyl_0s-03TFh",
        "outputId": "7c331ddf-1621-4dc9-d03a-c622e0ed5737"
      },
      "source": [
        "print('\\033[92m' + random_text)\n",
        "print('\\033[92m' + remove_link_text)"
      ],
      "execution_count": null,
      "outputs": [
        {
          "output_type": "stream",
          "text": [
            "\u001b[92mDiscussing climate, sustainability, and preserving the natural world with President @EmmanuelMacron today in Paris. #BezosEarthFund #ClimatePledge\n",
            "\u001b[92mDiscussing climate, sustainability, and preserving the natural world with President @EmmanuelMacron today in Paris. BezosEarthFund ClimatePledge\n"
          ],
          "name": "stdout"
        }
      ]
    },
    {
      "cell_type": "code",
      "metadata": {
        "colab": {
          "base_uri": "https://localhost:8080/"
        },
        "id": "3hKhYMiXpGFr",
        "outputId": "4bbb57d6-5b14-4168-a280-18bc4fe20321"
      },
      "source": [
        "from nltk.tokenize import sent_tokenize\n",
        "text=\"\"\"Hello Mr. steve, how you doing? whats up? The weather is great, and city is awesome. how you doing? The sky is pinkish-blue. You shouldn't eat cardboard, how you doing?\"\"\"\n",
        "# download punkt\n",
        "nltk.download(\"punkt\")\n",
        "tokenized_text=sent_tokenize(text)\n",
        "print(tokenized_text)"
      ],
      "execution_count": null,
      "outputs": [
        {
          "output_type": "stream",
          "text": [
            "[nltk_data] Downloading package punkt to /root/nltk_data...\n",
            "[nltk_data]   Unzipping tokenizers/punkt.zip.\n",
            "['Hello Mr. steve, how you doing?', 'whats up?', 'The weather is great, and city is awesome.', 'how you doing?', 'The sky is pinkish-blue.', \"You shouldn't eat cardboard, how you doing?\"]\n"
          ],
          "name": "stdout"
        }
      ]
    },
    {
      "cell_type": "code",
      "metadata": {
        "colab": {
          "base_uri": "https://localhost:8080/"
        },
        "id": "KOGvOYTdpVd5",
        "outputId": "27af7a4b-ef35-424f-e0ee-73bada719a02"
      },
      "source": [
        "# breaks paregraph into words\n",
        "from nltk.tokenize import word_tokenize\n",
        "tokenized_word=word_tokenize(text)\n",
        "print(tokenized_word)"
      ],
      "execution_count": null,
      "outputs": [
        {
          "output_type": "stream",
          "text": [
            "['Hello', 'Mr.', 'steve', ',', 'how', 'you', 'doing', '?', 'whats', 'up', '?', 'The', 'weather', 'is', 'great', ',', 'and', 'city', 'is', 'awesome', '.', 'how', 'you', 'doing', '?', 'The', 'sky', 'is', 'pinkish-blue', '.', 'You', 'should', \"n't\", 'eat', 'cardboard', ',', 'how', 'you', 'doing', '?']\n"
          ],
          "name": "stdout"
        }
      ]
    },
    {
      "cell_type": "code",
      "metadata": {
        "colab": {
          "base_uri": "https://localhost:8080/",
          "height": 330
        },
        "id": "Jb5ACXqwpotm",
        "outputId": "74e2ba8b-5482-4322-d340-72d056cf4211"
      },
      "source": [
        "# frequency distribution\n",
        "from nltk.probability import FreqDist\n",
        "fdist = FreqDist(tokenized_word)\n",
        "fdist.most_common(4)\n",
        "# Frequency Distribution Plot\n",
        "import matplotlib.pyplot as plt\n",
        "fdist.plot(30, cumulative = False, color = \"green\")\n",
        "plt.show()"
      ],
      "execution_count": null,
      "outputs": [
        {
          "output_type": "display_data",
          "data": {
            "image/png": "[encoded data removed]",
            "text/plain": [
              "<Figure size 432x288 with 1 Axes>"
            ]
          },
          "metadata": {
            "tags": [],
            "needs_background": "light"
          }
        }
      ]
    },
    {
      "cell_type": "code",
      "metadata": {
        "colab": {
          "base_uri": "https://localhost:8080/"
        },
        "id": "UlxorA4tqzhD",
        "outputId": "ee7c38cb-833a-482a-848e-105ac5966534"
      },
      "source": [
        "# stop words\n",
        "from nltk.corpus import stopwords\n",
        "# download stopwords\n",
        "nltk.download(\"stopwords\")\n",
        "stop_words = set(stopwords.words(\"english\"))\n",
        "print(stop_words)"
      ],
      "execution_count": null,
      "outputs": [
        {
          "output_type": "stream",
          "text": [
            "[nltk_data] Downloading package stopwords to /root/nltk_data...\n",
            "[nltk_data]   Unzipping corpora/stopwords.zip.\n",
            "{'for', 's', \"it's\", 'o', 'are', \"doesn't\", 'it', 'you', 'these', 'so', 'most', 'under', 'after', \"mightn't\", 'hadn', \"isn't\", 'isn', 'through', 'not', 'didn', 'y', 'this', 'him', 'before', 'each', 'your', 'weren', 'has', 'shan', 'needn', 'because', \"won't\", 'whom', \"that'll\", 'she', 'other', 'any', 'is', 'with', 'over', 'out', 'hasn', 'do', 'm', 'be', 'or', 'a', \"weren't\", 'will', 'i', 'at', 'of', 'down', 'll', 'once', 'had', 'on', 't', 'between', 're', 'herself', 'very', 'hers', 'and', 'here', 'few', 'ain', \"don't\", 'themselves', 'itself', 'up', 'been', 've', 'wouldn', \"you're\", 'did', 'against', \"you'd\", 'theirs', \"wouldn't\", 'above', 'below', 'mustn', 'ourselves', 'into', 'couldn', 'its', 'his', 'from', \"couldn't\", 'all', 'can', 'were', 'than', 'what', 'mightn', 'they', \"shan't\", 'haven', 'then', 'myself', 'was', 'doing', 'doesn', \"shouldn't\", 'how', 'just', 'which', 'same', 'where', 'me', \"aren't\", 'aren', 'as', 'about', 'no', 'own', \"she's\", 'some', 'himself', 'won', 'further', 'again', 'yourselves', 'only', \"haven't\", 'those', 'shouldn', \"you'll\", \"didn't\", 'why', 'the', \"mustn't\", 'who', 'd', 'ours', 'an', 'that', 'but', 'does', 'if', 'when', \"should've\", 'to', 'our', 'there', 'have', 'having', 'ma', 'we', 'off', 'them', \"hadn't\", 'during', \"you've\", 'too', 'more', \"needn't\", 'in', 'he', 'her', 'should', 'both', \"wasn't\", 'now', 'am', 'nor', 'don', 'my', 'while', 'being', 'wasn', 'by', 'yours', 'yourself', 'until', 'such', 'their', \"hasn't\"}\n"
          ],
          "name": "stdout"
        }
      ]
    },
    {
      "cell_type": "code",
      "metadata": {
        "colab": {
          "base_uri": "https://localhost:8080/"
        },
        "id": "giaafJN6rxlb",
        "outputId": "8fbadd75-f7e4-448f-d6da-00ed344ef8b4"
      },
      "source": [
        "filtered_sent=[]\n",
        "for w in tokenized_word:\n",
        "    if w not in stop_words:\n",
        "        filtered_sent.append(w)\n",
        "print(\"Tokenized Sentence:\",tokenized_word)\n",
        "print(\"Filterd Sentence:\",filtered_sent)"
      ],
      "execution_count": null,
      "outputs": [
        {
          "output_type": "stream",
          "text": [
            "Tokenized Sentence: ['Hello', 'Mr.', 'steve', ',', 'how', 'you', 'doing', '?', 'whats', 'up', '?', 'The', 'weather', 'is', 'great', ',', 'and', 'city', 'is', 'awesome', '.', 'how', 'you', 'doing', '?', 'The', 'sky', 'is', 'pinkish-blue', '.', 'You', 'should', \"n't\", 'eat', 'cardboard', ',', 'how', 'you', 'doing', '?']\n",
            "Filterd Sentence: ['Hello', 'Mr.', 'steve', ',', '?', 'whats', '?', 'The', 'weather', 'great', ',', 'city', 'awesome', '.', '?', 'The', 'sky', 'pinkish-blue', '.', 'You', \"n't\", 'eat', 'cardboard', ',', '?']\n"
          ],
          "name": "stdout"
        }
      ]
    },
    {
      "cell_type": "code",
      "metadata": {
        "colab": {
          "base_uri": "https://localhost:8080/"
        },
        "id": "aMlWpuDzsBMh",
        "outputId": "8fa12f42-84c4-4c9f-b53f-53906dd50ad0"
      },
      "source": [
        "# stemming\n",
        "from nltk.stem import PorterStemmer\n",
        "from nltk.tokenize import sent_tokenize, word_tokenize\n",
        "\n",
        "ps = PorterStemmer()\n",
        "\n",
        "stemmed_words=[]\n",
        "for w in filtered_sent:\n",
        "    stemmed_words.append(ps.stem(w))\n",
        "\n",
        "print(\"Filtered Sentence:\",filtered_sent)\n",
        "print(\"Stemmed Sentence:\",stemmed_words)"
      ],
      "execution_count": null,
      "outputs": [
        {
          "output_type": "stream",
          "text": [
            "Filtered Sentence: ['Hello', 'Mr.', 'steve', ',', '?', 'whats', '?', 'The', 'weather', 'great', ',', 'city', 'awesome', '.', '?', 'The', 'sky', 'pinkish-blue', '.', 'You', \"n't\", 'eat', 'cardboard', ',', '?']\n",
            "Stemmed Sentence: ['hello', 'mr.', 'steve', ',', '?', 'what', '?', 'the', 'weather', 'great', ',', 'citi', 'awesom', '.', '?', 'the', 'sky', 'pinkish-blu', '.', 'you', \"n't\", 'eat', 'cardboard', ',', '?']\n"
          ],
          "name": "stdout"
        }
      ]
    },
    {
      "cell_type": "code",
      "metadata": {
        "colab": {
          "base_uri": "https://localhost:8080/"
        },
        "id": "dZSb7K_WsqFU",
        "outputId": "f834d56f-ec72-4bbe-a540-d6631f3220c3"
      },
      "source": [
        "#Lexicon Normalization\n",
        "#performing stemming and Lemmatization\n",
        "\n",
        "from nltk.stem.wordnet import WordNetLemmatizer\n",
        "nltk.download('wordnet')\n",
        "lem = WordNetLemmatizer()\n",
        "\n",
        "from nltk.stem.porter import PorterStemmer\n",
        "stem = PorterStemmer()\n",
        "\n",
        "word = \"flying\"\n",
        "print(\"Lemmatized Word:\",lem.lemmatize(word,\"v\"))\n",
        "print(\"Stemmed Word:\",stem.stem(word))"
      ],
      "execution_count": null,
      "outputs": [
        {
          "output_type": "stream",
          "text": [
            "[nltk_data] Downloading package wordnet to /root/nltk_data...\n",
            "[nltk_data]   Unzipping corpora/wordnet.zip.\n",
            "Lemmatized Word: fly\n",
            "Stemmed Word: fli\n"
          ],
          "name": "stdout"
        }
      ]
    },
    {
      "cell_type": "code",
      "metadata": {
        "id": "fix5Qlw8suEL"
      },
      "source": [
        ""
      ],
      "execution_count": null,
      "outputs": []
    }
  ]
}