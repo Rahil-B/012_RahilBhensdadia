{
  "nbformat": 4,
  "nbformat_minor": 0,
  "metadata": {
    "colab": {
      "name": "Lab_01_Linear_Algebra.ipynb",
      "provenance": [],
      "collapsed_sections": [],
      "include_colab_link": true
    },
    "kernelspec": {
      "name": "python3",
      "display_name": "Python 3"
    },
    "language_info": {
      "name": "python"
    }
  },
  "cells": [
    {
      "cell_type": "markdown",
      "metadata": {
        "id": "view-in-github",
        "colab_type": "text"
      },
      "source": [
        "<a href=\"https://colab.research.google.com/github/r5racker/012_RahilBhensdadia/blob/main/Lab_01_Linear_Algebra.ipynb\" target=\"_parent\"><img src=\"https://colab.research.google.com/assets/colab-badge.svg\" alt=\"Open In Colab\"/></a>"
      ]
    },
    {
      "cell_type": "code",
      "metadata": {
        "colab": {
          "base_uri": "https://localhost:8080/"
        },
        "id": "Wytm29pC8GxP",
        "outputId": "4c419fcd-fed1-4e17-b77b-6381e919f16d"
      },
      "source": [
        "from google.colab import drive\n",
        "drive.mount(\"/content/drive\")"
      ],
      "execution_count": 1,
      "outputs": [
        {
          "output_type": "stream",
          "text": [
            "Mounted at /content/drive\n"
          ],
          "name": "stdout"
        }
      ]
    },
    {
      "cell_type": "code",
      "metadata": {
        "id": "NLhsXKXm8wDd"
      },
      "source": [
        "import numpy as np\n",
        "import pandas as pd"
      ],
      "execution_count": 2,
      "outputs": []
    },
    {
      "cell_type": "code",
      "metadata": {
        "colab": {
          "base_uri": "https://localhost:8080/"
        },
        "id": "YrMwOlBi9RHU",
        "outputId": "f2ebb681-2bff-4fb6-e722-b72deb886cc2"
      },
      "source": [
        "# two matrics\n",
        "array1 = np.array([[5, 9, 3],[3, 7, 5]])\n",
        "array2 = np.array([[3,-9],[5, 4],[7, -8]])\n",
        "print(array1)\n",
        "print(array2)"
      ],
      "execution_count": 4,
      "outputs": [
        {
          "output_type": "stream",
          "text": [
            "[[5 9 3]\n",
            " [3 7 5]]\n",
            "[[ 3 -9]\n",
            " [ 5  4]\n",
            " [ 7 -8]]\n"
          ],
          "name": "stdout"
        }
      ]
    },
    {
      "cell_type": "code",
      "metadata": {
        "colab": {
          "base_uri": "https://localhost:8080/"
        },
        "id": "0G4ztctz9iph",
        "outputId": "4e80eaac-a4c7-4ca7-bd65-a1eb4fc56498"
      },
      "source": [
        "#randomly initialize array\n",
        "array = np.random.rand(3, 4)\n",
        "print(array)"
      ],
      "execution_count": 6,
      "outputs": [
        {
          "output_type": "stream",
          "text": [
            "[[0.54933877 0.80776604 0.54930669 0.91085202]\n",
            " [0.72880772 0.3062133  0.31212004 0.9418016 ]\n",
            " [0.83965875 0.44679129 0.36775939 0.16950713]]\n"
          ],
          "name": "stdout"
        }
      ]
    },
    {
      "cell_type": "code",
      "metadata": {
        "colab": {
          "base_uri": "https://localhost:8080/"
        },
        "id": "pGD17M4e9t9Z",
        "outputId": "e19c7baf-dfb0-4ab2-c0b5-f59d8a5f273b"
      },
      "source": [
        "# perform matrix multiplication\n",
        "mul = np.dot(array1, array2)\n",
        "print(mul)"
      ],
      "execution_count": 7,
      "outputs": [
        {
          "output_type": "stream",
          "text": [
            "[[ 81 -33]\n",
            " [ 79 -39]]\n"
          ],
          "name": "stdout"
        }
      ]
    },
    {
      "cell_type": "code",
      "metadata": {
        "colab": {
          "base_uri": "https://localhost:8080/"
        },
        "id": "mCT8XbnA926h",
        "outputId": "336236f7-8bc5-4b7c-cb89-3e1a042255db"
      },
      "source": [
        "# perform element wise matrix multiplication\n",
        "res = [[0 for x in range(len(array1))] for y in range(len(array2[0]))]\n",
        "\n",
        "for i in range(len(array1)): \n",
        "  for j in range(len(array2[0])): \n",
        "    for k in range(len(array2)): \n",
        "      res[i][j] += array1[i][k] * array2[k][j]\n",
        " \n",
        "print (res) "
      ],
      "execution_count": 9,
      "outputs": [
        {
          "output_type": "stream",
          "text": [
            "[[81, -33], [79, -39]]\n"
          ],
          "name": "stdout"
        }
      ]
    },
    {
      "cell_type": "code",
      "metadata": {
        "colab": {
          "base_uri": "https://localhost:8080/"
        },
        "id": "pmbcqzXg-SsJ",
        "outputId": "eb21dbd5-cc1e-4e39-c6ab-b915d3beb1d0"
      },
      "source": [
        "# mean of first matrix\n",
        "mean = np.mean(array1)\n",
        "print(mean)"
      ],
      "execution_count": 10,
      "outputs": [
        {
          "output_type": "stream",
          "text": [
            "5.333333333333333\n"
          ],
          "name": "stdout"
        }
      ]
    },
    {
      "cell_type": "code",
      "metadata": {
        "id": "AOi7uQv-SdIm"
      },
      "source": [
        "main_data = pd.read_csv(\"/content/drive/MyDrive/Sem7/My_ML/Lab1/mtcars.csv\")"
      ],
      "execution_count": 13,
      "outputs": []
    },
    {
      "cell_type": "code",
      "metadata": {
        "colab": {
          "base_uri": "https://localhost:8080/"
        },
        "id": "WQvwWW_ATFPq",
        "outputId": "e8c32a62-1659-4022-a16a-d843196cd22a"
      },
      "source": [
        "del main_data['model']\n",
        "# meancenter\n",
        "meancenter = main_data.apply(lambda e: e - e.mean())\n",
        "print(meancenter.head())\n"
      ],
      "execution_count": 14,
      "outputs": [
        {
          "output_type": "stream",
          "text": [
            "        mpg     cyl        disp       hp  ...      vs       am    gear    carb\n",
            "0  0.909375 -0.1875  -70.721875 -36.6875  ... -0.4375  0.59375  0.3125  1.1875\n",
            "1  0.909375 -0.1875  -70.721875 -36.6875  ... -0.4375  0.59375  0.3125  1.1875\n",
            "2  2.709375 -2.1875 -122.721875 -53.6875  ...  0.5625  0.59375  0.3125 -1.8125\n",
            "3  1.309375 -0.1875   27.278125 -36.6875  ...  0.5625 -0.40625 -0.6875 -1.8125\n",
            "4 -1.390625  1.8125  129.278125  28.3125  ... -0.4375 -0.40625 -0.6875 -0.8125\n",
            "\n",
            "[5 rows x 11 columns]\n"
          ],
          "name": "stdout"
        }
      ]
    },
    {
      "cell_type": "code",
      "metadata": {
        "id": "yLR1NUfNUDvX"
      },
      "source": [
        ""
      ],
      "execution_count": null,
      "outputs": []
    }
  ]
}