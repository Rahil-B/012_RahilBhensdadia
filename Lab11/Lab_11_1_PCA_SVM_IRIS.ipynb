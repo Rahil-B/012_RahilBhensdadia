{
  "nbformat": 4,
  "nbformat_minor": 0,
  "metadata": {
    "colab": {
      "name": "Lab_11_1_PCA_SVM_IRIS.ipynb",
      "provenance": []
    },
    "kernelspec": {
      "name": "python3",
      "display_name": "Python 3"
    },
    "language_info": {
      "name": "python"
    }
  },
  "cells": [
    {
      "cell_type": "code",
      "metadata": {
        "colab": {
          "base_uri": "https://localhost:8080/"
        },
        "id": "2zlxXIxeTV34",
        "outputId": "2ddec6a8-125e-4c1d-f708-8fe299b6d6d3"
      },
      "source": [
        "%matplotlib inline\n",
        "import pandas as pd\n",
        "from sklearn import datasets\n",
        "from sklearn.decomposition import PCA\n",
        "from sklearn import svm,decomposition\n",
        "import matplotlib.pyplot as plt\n",
        "import numpy as np \n",
        "\n",
        "iris_dataset = datasets.load_iris()\n",
        "iris_dataset.target_names"
      ],
      "execution_count": 7,
      "outputs": [
        {
          "output_type": "execute_result",
          "data": {
            "text/plain": [
              "array(['setosa', 'versicolor', 'virginica'], dtype='<U10')"
            ]
          },
          "metadata": {},
          "execution_count": 7
        }
      ]
    },
    {
      "cell_type": "code",
      "metadata": {
        "colab": {
          "base_uri": "https://localhost:8080/"
        },
        "id": "pqbdGH2ATaQL",
        "outputId": "9b0d4da9-9046-49d4-fced-3c8c5520eac7"
      },
      "source": [
        "from sklearn.model_selection import train_test_split\n",
        "X_train, X_test, y_train, y_test = train_test_split(iris_dataset.data,iris_dataset.target, random_state=12)\n",
        "print(X_train.shape, X_test.shape)"
      ],
      "execution_count": 14,
      "outputs": [
        {
          "output_type": "stream",
          "name": "stdout",
          "text": [
            "(112, 4) (38, 4)\n"
          ]
        }
      ]
    },
    {
      "cell_type": "code",
      "metadata": {
        "colab": {
          "base_uri": "https://localhost:8080/",
          "height": 268
        },
        "id": "KzitFquX7VUo",
        "outputId": "5d39908a-f10b-4ca5-9c86-388d1a7b1b7d"
      },
      "source": [
        "# plotting scatters\n",
        "plt.scatter(iris_dataset.data[:, 0], iris_dataset.data[:, 1], c=iris_dataset.target, s=25,cmap='spring');\n",
        "plt.show()"
      ],
      "execution_count": 16,
      "outputs": [
        {
          "output_type": "display_data",
          "data": {
            "image/png": "[encoded data removed]",
            "text/plain": [
              "<Figure size 432x288 with 1 Axes>"
            ]
          },
          "metadata": {
            "needs_background": "light"
          }
        }
      ]
    },
    {
      "cell_type": "code",
      "metadata": {
        "colab": {
          "base_uri": "https://localhost:8080/"
        },
        "id": "m_ZSidwnTcPS",
        "outputId": "da13da0d-9c40-493a-e73b-c26a09409aac"
      },
      "source": [
        "pca = decomposition.PCA(n_components=3, whiten=True, random_state=12)\n",
        "pca.fit(X_train)"
      ],
      "execution_count": 17,
      "outputs": [
        {
          "output_type": "execute_result",
          "data": {
            "text/plain": [
              "PCA(copy=True, iterated_power='auto', n_components=3, random_state=12,\n",
              "    svd_solver='auto', tol=0.0, whiten=True)"
            ]
          },
          "metadata": {},
          "execution_count": 17
        }
      ]
    },
    {
      "cell_type": "code",
      "metadata": {
        "colab": {
          "base_uri": "https://localhost:8080/"
        },
        "id": "vghAalMhTfDK",
        "outputId": "610a33df-70bb-4906-f2ee-1845f4ee7e84"
      },
      "source": [
        "X_train_pca = pca.transform(X_train)\n",
        "X_test_pca = pca.transform(X_test)\n",
        "print(X_train_pca.shape)\n",
        "\n",
        "clf = svm.SVC(C=3., gamma=0.005, random_state=12)\n",
        "clf.fit(X_train_pca, y_train)"
      ],
      "execution_count": 18,
      "outputs": [
        {
          "output_type": "stream",
          "name": "stdout",
          "text": [
            "(112, 3)\n"
          ]
        },
        {
          "output_type": "execute_result",
          "data": {
            "text/plain": [
              "SVC(C=3.0, break_ties=False, cache_size=200, class_weight=None, coef0=0.0,\n",
              "    decision_function_shape='ovr', degree=3, gamma=0.005, kernel='rbf',\n",
              "    max_iter=-1, probability=False, random_state=12, shrinking=True, tol=0.001,\n",
              "    verbose=False)"
            ]
          },
          "metadata": {},
          "execution_count": 18
        }
      ]
    },
    {
      "cell_type": "code",
      "metadata": {
        "colab": {
          "base_uri": "https://localhost:8080/"
        },
        "id": "QX0Sp99hTg0z",
        "outputId": "90b11f8b-d2da-4cba-807c-7c5e34358af5"
      },
      "source": [
        "from sklearn import metrics\n",
        "y_pred = clf.predict(X_test_pca)\n",
        "\n",
        "print(metrics.classification_report(y_test, y_pred))"
      ],
      "execution_count": 19,
      "outputs": [
        {
          "output_type": "stream",
          "name": "stdout",
          "text": [
            "              precision    recall  f1-score   support\n",
            "\n",
            "           0       1.00      1.00      1.00        15\n",
            "           1       0.83      0.83      0.83        12\n",
            "           2       0.82      0.82      0.82        11\n",
            "\n",
            "    accuracy                           0.89        38\n",
            "   macro avg       0.88      0.88      0.88        38\n",
            "weighted avg       0.89      0.89      0.89        38\n",
            "\n"
          ]
        }
      ]
    },
    {
      "cell_type": "code",
      "metadata": {
        "colab": {
          "base_uri": "https://localhost:8080/"
        },
        "id": "Yh6VqpRNTiuL",
        "outputId": "a91eafe2-8fd0-484f-fb49-2347c4e46283"
      },
      "source": [
        "from sklearn.pipeline import Pipeline\n",
        "clf = Pipeline([('pca', decomposition.PCA(n_components=3, whiten=True)), ('svm', svm.LinearSVC(C=3.0))])\n",
        "\n",
        "clf.fit(X_train, y_train)\n",
        "\n",
        "y_pred = clf.predict(X_test)\n",
        "print(metrics.confusion_matrix(y_pred, y_test))"
      ],
      "execution_count": 20,
      "outputs": [
        {
          "output_type": "stream",
          "name": "stdout",
          "text": [
            "[[14  0  0]\n",
            " [ 1 11  0]\n",
            " [ 0  1 11]]\n"
          ]
        }
      ]
    }
  ]
}